{
 "cells": [
  {
   "cell_type": "code",
   "execution_count": null,
   "id": "764596c1",
   "metadata": {},
   "outputs": [
    {
     "name": "stdout",
     "output_type": "stream",
     "text": [
      "Health -> 200\n",
      "health status: 200\n",
      "body: {\"ok\":true,\"model\":\"NousResearch/Hermes-2-Pro-Mistral-7B\",\"gpu\":\"L4\",\"has_local_model\":false}\n"
     ]
    }
   ],
   "source": [
    "import requests, json, base64, numpy as np\n",
    "import os\n",
    "\n",
    "\n",
    "BASE = \"\"  # ganti jika beda\n",
    "print(\"Health ->\", requests.get(BASE + \"/health\").status_code)\n",
    "r = requests.get(BASE + \"/health\", timeout=20)\n",
    "print(\"health status:\", r.status_code)\n",
    "print(\"body:\", r.text[:1000])"
   ]
  },
  {
   "cell_type": "code",
   "execution_count": 9,
   "id": "87058bdb",
   "metadata": {},
   "outputs": [
    {
     "name": "stdout",
     "output_type": "stream",
     "text": [
      "generate status: 200\n",
      "body (first 1000 chars): {\"attribute\":\"happy\",\"negative_used\":\"sad\",\"filename\":\"happy.npy\",\"data_b64\":\"k05VTVBZAQB2AHsnZGVzY3InOiAnPGY0JywgJ2ZvcnRyYW5fb3JkZXInOiBGYWxzZSwgJ3NoYXBlJzogKDQwOTYsKSwgfSAgICAgICAgICAgICAgICAgICAgICAgICAgICAgICAgICAgICAgICAgICAgICAgICAgICAgICAgIAoLEmq7VByzu4SEZru22d84tTIgu/RdbjvFgww8C0uyO3r+XbttfmS7xc15uphi1zqowCm8qVt4u6//CDzXf1W6imx3ul0mGLqmxHi8/mAIvPsmFDuHtEG7tmY1O8ehAzteawy86ecqOifDL7yy/ia7wDrlO0h4BbluNiC7A8W1uzdj3rqbT4m7Iz+aO00tSzo0ibi7mRKROxvLEjo0p9a7whCeOnXr5DqY6M07XbT3u5WOrTt3nqE6BsxdOxwbpjqVKhs4ulEQO4TmM7lo4C08V1Dru+s3ejzRb5G7lQCJu4gDoLqk5Ci756yJuidREryIsBc5BclWvCKJezyflIk7l6P5O5V9TzvElDa8qxgtu+eth7uzK9o7LtmsO2J6oDtN3ec65WhDO885CLt3mY26ZI4qu2Z557vjd448pHcju0Mi3Dt0S8S51uuju8Dd+bt5uI663nIJvAb+d7t+NjM714ikO0p8LjjiwX070qyuPOywjDtckBe7Nv07vHjptzsnoMY79pczu7T8vjvmg6I7K6savOcjYDmEFVi6t85WPEm4Yzyt4HK8+L4OusjTzDl+Ebg7BvJiO1RuDLzBIBC847hOPGyEJztnS2G6OZKru58+Iry2Xb27X+IePAIGWDsMvte56nTNO+iYsDs692a6SsiWPEWJQTsO1XQ7bqHRu7IKg7pCUV26GPM7vMCbSjzqj8e7G+Rbu1YWQTv4UPu6SL76OVNZ3rtpv+c75JiOuy9ju7\n",
      "Loaded shape: (4096,)\n"
     ]
    }
   ],
   "source": [
    "# Jika health OK, coba generate:\n",
    "payload = {\"attribute\":\"happy\", \"num_examples\":3}\n",
    "r = requests.post(BASE + \"/generate\", json=payload, timeout=600)\n",
    "print(\"generate status:\", r.status_code)\n",
    "print(\"body (first 1000 chars):\", r.text[:1000])\n",
    "if r.status_code == 200:\n",
    "    data = r.json()\n",
    "    b64 = data[\"data_b64\"]\n",
    "    open(data[\"filename\"], \"wb\").write(base64.b64decode(b64))\n",
    "    arr = np.load(data[\"filename\"])\n",
    "    print(\"Loaded shape:\", arr.shape)\n",
    "else:\n",
    "    # jangan raise langsung — lihat body\n",
    "    print(\"Generate failed; see body above for detailed error.\")"
   ]
  },
  {
   "cell_type": "code",
   "execution_count": null,
   "id": "6cacbb83",
   "metadata": {},
   "outputs": [],
   "source": []
  }
 ],
 "metadata": {
  "kernelspec": {
   "display_name": "Python 3",
   "language": "python",
   "name": "python3"
  },
  "language_info": {
   "codemirror_mode": {
    "name": "ipython",
    "version": 3
   },
   "file_extension": ".py",
   "mimetype": "text/x-python",
   "name": "python",
   "nbconvert_exporter": "python",
   "pygments_lexer": "ipython3",
   "version": "3.12.0"
  }
 },
 "nbformat": 4,
 "nbformat_minor": 5
}
