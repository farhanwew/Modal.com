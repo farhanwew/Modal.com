{
 "cells": [
  {
   "cell_type": "code",
   "execution_count": 9,
   "id": "ec4f1004",
   "metadata": {},
   "outputs": [],
   "source": [
    "URL = 'https://farhanaryawicaksono--lcpp-hermes-8-bits-handle-req.modal.run/'"
   ]
  },
  {
   "cell_type": "code",
   "execution_count": 10,
   "id": "cc10dcf8",
   "metadata": {},
   "outputs": [
    {
     "name": "stdout",
     "output_type": "stream",
     "text": [
      "I am an AI language model trained by OpenAI. My purpose is to assist individuals in generating creative and coherent text by providing suggestions and recommendations based on the input I receive. I am not a human, but rather a model designed to simulate human-like text generation.\n"
     ]
    }
   ],
   "source": [
    "import requests\n",
    "\n",
    "payload = {\n",
    "    \"prompt\": \"Who are you?\",\n",
    "    \"system_prompt\": \"You are a helpful assistant.\",\n",
    "    \"gen_config\": {\"max_tokens\": 256, \"temperature\": 0.7}\n",
    "}\n",
    "\n",
    "r = requests.post(URL, json=payload, timeout=180)\n",
    "r.raise_for_status()\n",
    "print(r.json()[\"res\"])\n"
   ]
  },
  {
   "cell_type": "code",
   "execution_count": 13,
   "id": "7e8b8b2f",
   "metadata": {},
   "outputs": [
    {
     "name": "stdout",
     "output_type": "stream",
     "text": [
      "I am an AI language model developed by OpenAI. My purpose is to assist users by providing information, answering questions, and generating text based on prompts. I am not a human, but rather a machine learning model trained on a large dataset to simulate human-like responses.\n"
     ]
    }
   ],
   "source": [
    "import requests\n",
    "\n",
    "payload = {\n",
    "    \"prompt\": \"Who are you?\",\n",
    "    \"system_prompt\": \"You are a helpful assistant.\",\n",
    "    \"gen_config\": {\"max_tokens\": 256, \"temperature\": 0.7}\n",
    "}\n",
    "\n",
    "r = requests.post('https://farhanaryawicaksono--lcpp-hermes2pro-handle-req.modal.run', json=payload, timeout=180)\n",
    "r.raise_for_status()\n",
    "print(r.json()[\"res\"])\n"
   ]
  },
  {
   "cell_type": "code",
   "execution_count": null,
   "id": "c105cb72",
   "metadata": {},
   "outputs": [],
   "source": []
  },
  {
   "cell_type": "code",
   "execution_count": null,
   "id": "7350edb3",
   "metadata": {},
   "outputs": [],
   "source": []
  }
 ],
 "metadata": {
  "kernelspec": {
   "display_name": "Python 3",
   "language": "python",
   "name": "python3"
  },
  "language_info": {
   "codemirror_mode": {
    "name": "ipython",
    "version": 3
   },
   "file_extension": ".py",
   "mimetype": "text/x-python",
   "name": "python",
   "nbconvert_exporter": "python",
   "pygments_lexer": "ipython3",
   "version": "3.12.0"
  }
 },
 "nbformat": 4,
 "nbformat_minor": 5
}
